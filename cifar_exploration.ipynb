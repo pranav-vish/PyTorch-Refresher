{
 "cells": [
  {
   "cell_type": "markdown",
   "metadata": {},
   "source": [
    "# Exploration of Complex Topics in Deep Learning"
   ]
  },
  {
   "cell_type": "code",
   "execution_count": 8,
   "metadata": {},
   "outputs": [],
   "source": [
    "import torch\n",
    "import torchvision\n",
    "import torchvision.transforms as transforms\n",
    "\n",
    "import torch.nn as nn\n",
    "import torch.nn.functional as F\n",
    "\n",
    "import numpy as np"
   ]
  },
  {
   "cell_type": "code",
   "execution_count": 17,
   "metadata": {},
   "outputs": [
    {
     "name": "stdout",
     "output_type": "stream",
     "text": [
      "cpu\n"
     ]
    }
   ],
   "source": [
    "device = torch.device(\"cuda\" if torch.cuda.is_available() else \"cpu\")\n",
    "print(device)"
   ]
  },
  {
   "cell_type": "markdown",
   "metadata": {},
   "source": [
    "## Train, Eval and Helper Functions\n",
    "---"
   ]
  },
  {
   "cell_type": "code",
   "execution_count": 9,
   "metadata": {},
   "outputs": [],
   "source": [
    "NUM_EPOCHS = 30\n",
    "\n",
    "def train_model(model, optimizer, criterion, train_loader, test_loader, num_epochs=30, device='cpu'):\n",
    "    \n",
    "    # Move model to device\n",
    "    model = model.to(device)\n",
    "    \n",
    "    # For tracking metrics\n",
    "    train_losses = []\n",
    "    test_losses = []\n",
    "    test_accuracies = []\n",
    "\n",
    "    for epoch in range(NUM_EPOCHS):\n",
    "\n",
    "        #Training Phase\n",
    "        model.train()\n",
    "        # print(f\"Epoch {epoch} in progress...\")\n",
    "        running_loss = 0\n",
    "\n",
    "        for batch_idx, (X, y) in enumerate(train_loader):\n",
    "            \n",
    "            X, y = X.to(device), y.to(device)\n",
    "\n",
    "            optimizer.zero_grad()\n",
    "            output = model.forward(X)\n",
    "            loss = criterion(output, y)\n",
    "\n",
    "            loss.backward()\n",
    "            optimizer.step()\n",
    "\n",
    "            running_loss += loss.item()\n",
    "        \n",
    "        if batch_idx % 100 == 0:\n",
    "            print(f'Epoch: {epoch+1}/{num_epochs}, Batch: {batch_idx}/{len(train_loader)}, Loss: {loss.item():.4f}')\n",
    "\n",
    "        avg_train_loss = running_loss / len(train_loader)\n",
    "        train_losses.append(avg_train_loss)\n",
    "\n",
    "        #Evaluation Phase\n",
    "        model.eval()\n",
    "\n",
    "        test_loss = 0\n",
    "        correct = 0\n",
    "        with torch.no_grad():\n",
    "\n",
    "            for (X,y) in test_loader:\n",
    "                X, y = X.to(device), y.to(device)\n",
    "                output = model.forward(X)\n",
    "                test_loss += criterion(output, y).item()\n",
    "\n",
    "                # Get the index of the max log-probability\n",
    "                pred = output.argmax(dim=1, keepdim=True)\n",
    "                correct += pred.eq(y.view_as(pred)).sum().item()\n",
    "                \n",
    "\n",
    "        test_loss /= len(test_loader)\n",
    "        test_losses.append(test_loss)\n",
    "        \n",
    "        accuracy = 100. * correct / len(test_loader.dataset)\n",
    "        test_accuracies.append(accuracy)\n",
    "        \n",
    "        print(f'Epoch: {epoch+1}/{num_epochs}')\n",
    "        print(f'Train Loss: {avg_train_loss:.4f}')\n",
    "        print(f'Test Loss: {test_loss:.4f}')\n",
    "        print(f'Test Accuracy: {accuracy:.2f}%\\n')\n",
    "    \n",
    "    return train_losses, test_losses, test_accuracies\n"
   ]
  },
  {
   "cell_type": "code",
   "execution_count": 10,
   "metadata": {},
   "outputs": [],
   "source": [
    "def evaluate_model(model, test_loader, device):\n",
    "    model.eval()\n",
    "    all_pred = []\n",
    "    all_targets = []\n",
    "\n",
    "    with torch.no_grad():\n",
    "        for data, target in test_loader:\n",
    "            data, target = data.to(device), target.to(device)\n",
    "            output = model.forward(data)\n",
    "            pred = output.argmax(dim=1)\n",
    "\n",
    "            all_pred.extend(pred.cpu().numpy())\n",
    "            all_targets.extend(target.cpu().numpy())\n",
    "            \n",
    "    return all_pred, all_targets"
   ]
  },
  {
   "cell_type": "code",
   "execution_count": 11,
   "metadata": {},
   "outputs": [],
   "source": [
    "import matplotlib.pyplot as plt\n",
    "from sklearn.metrics import confusion_matrix, classification_report\n",
    "import seaborn as sns"
   ]
  },
  {
   "cell_type": "code",
   "execution_count": 12,
   "metadata": {},
   "outputs": [],
   "source": [
    "def plot_train_metrics(train_losses, test_losses, test_accuracies):\n",
    "    # Plot training and validation loss\n",
    "    plt.figure(figsize=(10, 5))\n",
    "    plt.subplot(1, 2, 1)\n",
    "    plt.plot(train_losses, label='Training Loss')\n",
    "    plt.plot(test_losses, label='Validation Loss')\n",
    "    plt.xlabel('Epochs')\n",
    "    plt.ylabel('Loss')\n",
    "    plt.legend()\n",
    "    plt.title('Loss Curves')\n",
    "\n",
    "    # Plot validation accuracy\n",
    "    plt.subplot(1, 2, 2)\n",
    "    plt.plot(test_accuracies, label='Validation Accuracy')\n",
    "    plt.xlabel('Epochs')\n",
    "    plt.ylabel('Accuracy (%)')\n",
    "    plt.legend()\n",
    "    plt.title('Accuracy Curve')\n",
    "\n",
    "    plt.tight_layout()\n",
    "    plt.show()"
   ]
  },
  {
   "cell_type": "code",
   "execution_count": 13,
   "metadata": {},
   "outputs": [],
   "source": [
    "def plot_eval_res(predictions, targets):\n",
    "    \n",
    "    cm = confusion_matrix(targets, predictions)\n",
    "    plt.figure(figsize=(10, 8))\n",
    "    sns.heatmap(cm, annot=True, fmt='d', cmap='Blues')\n",
    "    plt.xlabel('Predicted')\n",
    "    plt.ylabel('True')\n",
    "    plt.title('Confusion Matrix')\n",
    "    plt.show()\n",
    "\n",
    "    # Classification report\n",
    "    print(classification_report(targets, predictions))    \n"
   ]
  },
  {
   "cell_type": "markdown",
   "metadata": {},
   "source": [
    "## CIFAR10 Dataset\n",
    "---\n",
    "Useful for more complex NN architecture testing purposes."
   ]
  },
  {
   "cell_type": "code",
   "execution_count": 14,
   "metadata": {},
   "outputs": [],
   "source": [
    "# import ssl\n",
    "# import urllib.request\n",
    "\n",
    "# # Disable SSL certificate verification\n",
    "# ssl._create_default_https_context = ssl._create_unverified_context"
   ]
  },
  {
   "cell_type": "code",
   "execution_count": 16,
   "metadata": {},
   "outputs": [],
   "source": [
    "# Define transformations\n",
    "transform_train = transforms.Compose([\n",
    "    transforms.RandomCrop(32, padding=4),\n",
    "    transforms.RandomHorizontalFlip(),\n",
    "    transforms.ToTensor(),\n",
    "    transforms.Normalize((0.4914, 0.4822, 0.4465), (0.2470, 0.2435, 0.2616))\n",
    "])\n",
    "\n",
    "transform_test = transforms.Compose([\n",
    "    transforms.ToTensor(),\n",
    "    transforms.Normalize((0.4914, 0.4822, 0.4465), (0.2470, 0.2435, 0.2616))\n",
    "])\n",
    "\n",
    "# Load datasets\n",
    "trainset = torchvision.datasets.CIFAR10(\n",
    "    root='./data', train=True, download=True, transform=transform_train)\n",
    "testset = torchvision.datasets.CIFAR10(\n",
    "    root='./data', train=False, download=True, transform=transform_test)\n",
    "\n",
    "# Create data loaders\n",
    "trainloader = torch.utils.data.DataLoader(\n",
    "    trainset, batch_size=128, shuffle=True, num_workers=2)\n",
    "testloader = torch.utils.data.DataLoader(\n",
    "    testset, batch_size=100, shuffle=False, num_workers=2)\n",
    "\n",
    "# Class names for reference\n",
    "classes = ('plane', 'car', 'bird', 'cat', 'deer', \n",
    "           'dog', 'frog', 'horse', 'ship', 'truck')"
   ]
  },
  {
   "cell_type": "code",
   "execution_count": 20,
   "metadata": {},
   "outputs": [],
   "source": [
    "class Transfer_Learning(nn.Module):\n",
    "    def __init__(self):\n",
    "        super(Transfer_Learning, self).__init__()\n",
    "        model = torchvision.models.resnet18(pretrained=True)\n",
    "        num_features = model.fc.in_features\n",
    "        model.fc = nn.Linear(num_features, 10)\n",
    "        self.model = model\n",
    "\n",
    "    def forward(self, x):\n",
    "        return self.model(x)\n"
   ]
  },
  {
   "cell_type": "code",
   "execution_count": null,
   "metadata": {},
   "outputs": [
    {
     "name": "stderr",
     "output_type": "stream",
     "text": [
      "/Users/pranav/Downloads/Exploration/.venv/lib/python3.9/site-packages/torchvision/models/_utils.py:208: UserWarning: The parameter 'pretrained' is deprecated since 0.13 and may be removed in the future, please use 'weights' instead.\n",
      "  warnings.warn(\n",
      "/Users/pranav/Downloads/Exploration/.venv/lib/python3.9/site-packages/torchvision/models/_utils.py:223: UserWarning: Arguments other than a weight enum or `None` for 'weights' are deprecated since 0.13 and may be removed in the future. The current behavior is equivalent to passing `weights=ResNet18_Weights.IMAGENET1K_V1`. You can also use `weights=ResNet18_Weights.DEFAULT` to get the most up-to-date weights.\n",
      "  warnings.warn(msg)\n",
      "Downloading: \"https://download.pytorch.org/models/resnet18-f37072fd.pth\" to /Users/pranav/.cache/torch/hub/checkpoints/resnet18-f37072fd.pth\n",
      "100.0%\n"
     ]
    },
    {
     "name": "stdout",
     "output_type": "stream",
     "text": [
      "Epoch: 1/30\n",
      "Train Loss: 1.0251\n",
      "Test Loss: 0.8748\n",
      "Test Accuracy: 70.98%\n",
      "\n",
      "Epoch: 2/30\n",
      "Train Loss: 0.7324\n",
      "Test Loss: 1.5203\n",
      "Test Accuracy: 67.18%\n",
      "\n",
      "Epoch: 3/30\n",
      "Train Loss: 0.6596\n",
      "Test Loss: 0.6275\n",
      "Test Accuracy: 78.74%\n",
      "\n",
      "Epoch: 4/30\n",
      "Train Loss: 0.5953\n",
      "Test Loss: 0.6031\n",
      "Test Accuracy: 79.51%\n",
      "\n",
      "Epoch: 5/30\n",
      "Train Loss: 0.5499\n",
      "Test Loss: 0.6520\n",
      "Test Accuracy: 77.89%\n",
      "\n",
      "Epoch: 6/30\n",
      "Train Loss: 0.5186\n",
      "Test Loss: 0.5815\n",
      "Test Accuracy: 80.59%\n",
      "\n",
      "Epoch: 7/30\n",
      "Train Loss: 0.4969\n",
      "Test Loss: 0.6011\n",
      "Test Accuracy: 79.80%\n",
      "\n",
      "Epoch: 8/30\n",
      "Train Loss: 0.4741\n",
      "Test Loss: 0.5179\n",
      "Test Accuracy: 82.62%\n",
      "\n",
      "Epoch: 9/30\n",
      "Train Loss: 0.4641\n",
      "Test Loss: 0.5056\n",
      "Test Accuracy: 83.19%\n",
      "\n",
      "Epoch: 10/30\n",
      "Train Loss: 0.4348\n",
      "Test Loss: 0.4804\n",
      "Test Accuracy: 83.38%\n",
      "\n"
     ]
    }
   ],
   "source": [
    "model_1 = Transfer_Learning()\n",
    "model_1.to(device)\n",
    "\n",
    "criterion_1 = nn.CrossEntropyLoss()\n",
    "optimizer_1 = torch.optim.Adam(model_1.parameters(), lr=0.001)\n",
    "\n",
    "train_losses_1, test_losses_1, test_accuracies_1 = train_model(model_1, optimizer_1, criterion_1, trainloader, testloader, device=device)\n",
    "\n",
    "plot_train_metrics(train_losses_1, test_losses_1, test_accuracies_1)\n"
   ]
  },
  {
   "cell_type": "code",
   "execution_count": null,
   "metadata": {},
   "outputs": [],
   "source": []
  }
 ],
 "metadata": {
  "kernelspec": {
   "display_name": ".venv",
   "language": "python",
   "name": "python3"
  },
  "language_info": {
   "codemirror_mode": {
    "name": "ipython",
    "version": 3
   },
   "file_extension": ".py",
   "mimetype": "text/x-python",
   "name": "python",
   "nbconvert_exporter": "python",
   "pygments_lexer": "ipython3",
   "version": "3.9.6"
  }
 },
 "nbformat": 4,
 "nbformat_minor": 2
}
